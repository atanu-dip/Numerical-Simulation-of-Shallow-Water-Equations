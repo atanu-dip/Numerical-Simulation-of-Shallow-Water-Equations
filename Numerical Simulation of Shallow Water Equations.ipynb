{
 "cells": [
  {
   "cell_type": "markdown",
   "metadata": {},
   "source": [
    "# MOD600 - Project 2 - Numerical Simulation of Shallow Water Equations"
   ]
  },
  {
   "cell_type": "markdown",
   "metadata": {},
   "source": [
    "### Import libraries"
   ]
  },
  {
   "cell_type": "code",
   "execution_count": 1,
   "metadata": {},
   "outputs": [],
   "source": [
    "import numpy as np\n",
    "import matplotlib.pyplot as plt\n",
    "from celluloid import Camera\n",
    "import sys\n",
    "import time"
   ]
  },
  {
   "cell_type": "markdown",
   "metadata": {},
   "source": [
    "#### Define the functions"
   ]
  },
  {
   "cell_type": "code",
   "execution_count": 2,
   "metadata": {},
   "outputs": [],
   "source": [
    "def A_hat(u_l,u_r,g=9.81):\n",
    "    h_l = u_l[0]\n",
    "    h_r = u_r[0]\n",
    "    v_l = u_l[1]/h_l   \n",
    "    v_r = u_r[1]/h_r\n",
    "    h_hat = 0.5*(h_l+h_r)\n",
    "    v_hat = (np.sqrt(h_l)*v_l+np.sqrt(h_r)*v_r)/(np.sqrt(h_l)+np.sqrt(h_r))\n",
    "    A_hat_ = [[0,1],[g*h_hat-np.square(v_hat),2*v_hat]]\n",
    "    return A_hat_\n",
    "\n",
    "def A_hat_pos(u_l,u_r):\n",
    "    A_hat_ = A_hat(u_l,u_r)\n",
    "    lbd, R = np.linalg.eig(A_hat_)\n",
    "    lbd = np.diag(lbd)\n",
    "    lbd_p = np.max((lbd,np.zeros_like(lbd)),axis=0)\n",
    "    R_inv = np.linalg.inv(R)\n",
    "    A_hat_p = R@lbd_p@R_inv\n",
    "    return A_hat_p\n",
    "    \n",
    "def A_hat_neg(u_l,u_r):\n",
    "    A_hat_ = A_hat(u_l,u_r)\n",
    "    lbd, R = np.linalg.eig(A_hat_)\n",
    "    lbd = np.diag(lbd)\n",
    "    lbd_n = np.min((lbd,np.zeros_like(lbd)),axis=0)\n",
    "    R_inv = np.linalg.inv(R)\n",
    "    A_hat_n = R@lbd_n@R_inv\n",
    "    return A_hat_n\n"
   ]
  },
  {
   "cell_type": "code",
   "execution_count": 3,
   "metadata": {},
   "outputs": [],
   "source": [
    "def u_num(x_l=-25,x_r=25,M_cells = 150, N_time = 2000, T = 100,h_min=0.01,h_max=10):\n",
    "    \n",
    "    #discretisation of x (including ghost cells for boundary conditions)\n",
    "    dx = (x_r-x_l)/M_cells\n",
    "    print('dx =',np.round(dx,2),'m')\n",
    "    x_cells = np.linspace(x_l-dx,x_r+dx,M_cells+2)\n",
    "\n",
    "    #initial condition\n",
    "    h0 = np.where(x_cells<0,2,1)\n",
    "    v0 = np.zeros_like(x_cells)\n",
    "\n",
    "    #definition of u vector:\n",
    "    #1st value: height --> Conservation of Mass\n",
    "    #2nd value: height*velocity --> Conservation of Momentum\n",
    "    u0 = np.array([h0,h0*v0])\n",
    "    \n",
    "    #discretisation of time\n",
    "    T_array = np.linspace(0,T,N_time)\n",
    "    dt = T/N_time\n",
    "    print('dt =',np.round(dt,2),'s')\n",
    "\n",
    "    #initialize u matrix\n",
    "    u = np.zeros((N_time,M_cells+2,2))\n",
    "\n",
    "    #apply initial condition\n",
    "    u[0] = np.transpose(u0)\n",
    "    \n",
    "    #numerical scheme\n",
    "    for n in range(len(T_array)-1):\n",
    "        #display and update simulation status\n",
    "        sys.stdout.write('\\r')\n",
    "        sys.stdout.write(str(n+1)+'/'+str(N_time-1)+' --> '+str(np.round(100*(n+1)/(N_time-1),2))+'%                                                                          ')\n",
    "        sys.stdout.flush()\n",
    "        \n",
    "        #reflective boundary conditions\n",
    "        #1st value (height --> Conservation of Mass)\n",
    "        u[n,0,0] = u[n,1,0]\n",
    "        u[n,-1,0] = u[n,-2,0]\n",
    "        #2nd value (height*velocity --> Conservation of Momentum)\n",
    "        u[n,0,1] = -u[n,1,1]\n",
    "        u[n,-1,1] = -u[n,-2,1]\n",
    "        \n",
    "        #physicality limitations: h_min <= height <= h_max\n",
    "        heights = np.min((np.max((np.transpose(u[n])[0],np.ones(M_cells+2)*h_min),axis=0),np.ones(M_cells+2)*h_max),axis=0)\n",
    "        velocities = np.transpose(u[n])[1]/np.transpose(u[n])[0]\n",
    "        u[n] = np.transpose(np.array([heights,heights*velocities]))\n",
    "\n",
    "        #roe scheme\n",
    "        for j in range(1,len(x_cells)-1):  \n",
    "            u[n+1,j] = u[n,j]-(dt/dx)*(A_hat_pos(u[n,j-1],u[n,j])@(u[n,j]-u[n,j-1])+A_hat_neg(u[n,j],u[n,j+1])@(u[n,j+1]-u[n,j]))\n",
    "\n",
    "    return u,x_cells,T_array"
   ]
  },
  {
   "cell_type": "markdown",
   "metadata": {},
   "source": [
    "### Run the simulation"
   ]
  },
  {
   "cell_type": "code",
   "execution_count": 4,
   "metadata": {},
   "outputs": [
    {
     "name": "stdout",
     "output_type": "stream",
     "text": [
      "dx = 0.33 m\n",
      "dt = 0.05 s\n",
      "1999/1999 --> 100.0%                                                                          "
     ]
    }
   ],
   "source": [
    "u,x_cells,T_array = u_num()"
   ]
  },
  {
   "cell_type": "markdown",
   "metadata": {},
   "source": [
    "### Create the animation"
   ]
  },
  {
   "cell_type": "code",
   "execution_count": 5,
   "metadata": {},
   "outputs": [
    {
     "name": "stdout",
     "output_type": "stream",
     "text": [
      "creating animation...\n",
      "2000/2000 --> 100.0%                                                                          \n",
      "writing Simulation_20220421-174449.gif file...\n",
      "done\n"
     ]
    },
    {
     "data": {
      "image/png": "[encoded data removed]",
      "text/plain": [
       "<Figure size 1440x576 with 2 Axes>"
      ]
     },
     "metadata": {
      "needs_background": "light"
     },
     "output_type": "display_data"
    }
   ],
   "source": [
    "#initialise camera\n",
    "fig,(ax1,ax2) = plt.subplots(2,1)\n",
    "fig.set_figheight(8)\n",
    "fig.set_figwidth(20)\n",
    "camera = Camera(fig)\n",
    "\n",
    "end_time = T_array[-1]\n",
    "times = T_array\n",
    "t_report = 2\n",
    "actual_timesteps = len(T_array)\n",
    "timestr = time.strftime(\"%Y%m%d-%H%M%S\")\n",
    "\n",
    "#rounding digits for status update\n",
    "n_digits = np.floor(np.abs(np.log10(end_time)))\n",
    "round_digits = 2+int(n_digits)\n",
    "\n",
    "print('creating animation...')\n",
    "for t,Time in enumerate(times):\n",
    "    #display and update animation status\n",
    "    sys.stdout.write('\\r')\n",
    "    sys.stdout.write(str(t+1)+'/'+str(len(times))+' --> '+str(np.round(100*(t+1)/(len(times)),2))+'%                                                                          ')\n",
    "    sys.stdout.flush()\n",
    "    if t % t_report == 0:        \n",
    "        #create plot\n",
    "        ax1.plot(x_cells,np.transpose(u[t])[0],color='b')\n",
    "        ax1.fill_between(x_cells,np.transpose(u[t])[0],color='c')\n",
    "        ax2.plot(x_cells,np.transpose(u[t])[1]/np.transpose(u[t])[0],color='r')\n",
    "        ax1.set_ylabel('h [m]')\n",
    "        ax2.set_xlabel('x [m]')\n",
    "        ax2.set_ylabel('v [m/s]')\n",
    "        ax1.text(0.5, 1.01, str(np.round(Time,2))+'s', transform=ax1.transAxes)\n",
    "        camera.snap()\n",
    "\n",
    "#save animation\n",
    "print('\\nwriting Simulation_'+str(timestr)+'.gif file...')\n",
    "anim = camera.animate(blit=True)\n",
    "anim.save('Simulation_'+str(timestr)+'.gif',writer='pillow')\n",
    "print('done')"
   ]
  }
 ],
 "metadata": {
  "interpreter": {
   "hash": "63fd5069d213b44bf678585dea6b12cceca9941eaf7f819626cde1f2670de90d"
  },
  "kernelspec": {
   "display_name": "Python 3.9.6 64-bit",
   "language": "python",
   "name": "python3"
  },
  "language_info": {
   "codemirror_mode": {
    "name": "ipython",
    "version": 3
   },
   "file_extension": ".py",
   "mimetype": "text/x-python",
   "name": "python",
   "nbconvert_exporter": "python",
   "pygments_lexer": "ipython3",
   "version": "3.9.6"
  },
  "orig_nbformat": 4
 },
 "nbformat": 4,
 "nbformat_minor": 2
}
